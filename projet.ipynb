{
 "cells": [
  {
   "cell_type": "code",
   "execution_count": 1,
   "metadata": {},
   "outputs": [],
   "source": [
    "import sys\n",
    "venv_root = '/var/lib/vz/data/c17000697/DEEP/'\n",
    "sys.path.append(venv_root + 'lib/python3.5/site-packages')\n",
    "\n",
    "import warnings\n",
    "warnings.filterwarnings('ignore')\n",
    "import os\n",
    "\n",
    "os.environ[\"CUDA_DEVICE_VISIBLE\"]=\"0\""
   ]
  },
  {
   "cell_type": "code",
   "execution_count": 2,
   "metadata": {},
   "outputs": [
    {
     "name": "stderr",
     "output_type": "stream",
     "text": [
      "Using TensorFlow backend.\n"
     ]
    }
   ],
   "source": [
    "import load_caption\n",
    "\n",
    "#features,texts=load_caption.extract_features_caption(save_all=True)\n",
    "#print(features.shape)\n",
    "#print(len(texts))"
   ]
  },
  {
   "cell_type": "code",
   "execution_count": 3,
   "metadata": {},
   "outputs": [],
   "source": [
    "import numpy as np\n",
    "def load(captions_filename, features_filename):\n",
    "    features = np.load(features_filename)\n",
    "    images = []\n",
    "    texts = []\n",
    "    with open(captions_filename) as fp:\n",
    "        for line in fp:\n",
    "            tokens = line.strip().split()\n",
    "            images.append(tokens[0])\n",
    "            texts.append(' '.join(tokens[1:]))\n",
    "    return features, images, texts\n",
    "features,images,texts=load('../train.captions.txt','../resnet50-features.train.40k.npy')\n",
    "#print(features.shape)\n",
    "#print(len(texts))"
   ]
  },
  {
   "cell_type": "code",
   "execution_count": 4,
   "metadata": {},
   "outputs": [
    {
     "name": "stdout",
     "output_type": "stream",
     "text": [
      "414113\n"
     ]
    }
   ],
   "source": [
    "from keras.preprocessing.text import Tokenizer\n",
    "from keras.preprocessing.sequence import pad_sequences\n",
    "print(len(texts))\n",
    "tokenizer = Tokenizer()\n",
    "tokenizer.fit_on_texts(texts)\n",
    "sequences = tokenizer.texts_to_sequences(texts)\n",
    "captions = pad_sequences(sequences, maxlen=16)\n",
    "\n",
    "# It’s the right time to save the vocabulary so that we can reload it later.\n",
    "vocab = tokenizer.word_index\n",
    "vocab['<eos>'] = 0\n",
    "\n",
    "# add word with id 0\n",
    "import json\n",
    "with open('vocab.json', 'w') as fp:\n",
    "    # save the vocab\n",
    "    fp.write(json.dumps(vocab))"
   ]
  },
  {
   "cell_type": "code",
   "execution_count": 5,
   "metadata": {},
   "outputs": [
    {
     "data": {
      "text/plain": [
       "22679"
      ]
     },
     "execution_count": 5,
     "metadata": {},
     "output_type": "execute_result"
    }
   ],
   "source": [
    "len(vocab)"
   ]
  },
  {
   "cell_type": "code",
   "execution_count": 6,
   "metadata": {},
   "outputs": [
    {
     "name": "stderr",
     "output_type": "stream",
     "text": [
      "loading embeddings from \"../embeddings/glove.twitter.27B.100d.filtered.txt\"\n"
     ]
    }
   ],
   "source": [
    "import embedding\n",
    "\n",
    "\n",
    "embedding_weights = embedding.load(vocab, 100, '../embeddings/glove.twitter.27B.100d.filtered.txt')"
   ]
  },
  {
   "cell_type": "code",
   "execution_count": 7,
   "metadata": {},
   "outputs": [],
   "source": [
    "def create_tsv(filename):\n",
    "    print('loading embeddings from \"%s\"' % filename, file=sys.stderr)\n",
    "    with open(filename) as fp,open(filename+'_metadata.tsv','w+') as fp3,open(filename+\".tsv\",'w+') as fp2:\n",
    "        for line in fp:\n",
    "            vector = line.strip().split(' ',1)[1]\n",
    "            tokens = vector.split(' ')\n",
    "            for i in range(len(tokens)-2):\n",
    "                fp2.write(tokens[i]+'\\t')\n",
    "            fp2.write(tokens[len(tokens)-1]+'\\n')\n",
    "            fp3.write(line.strip().split(' ',1)[0]+\"\\n\")\n",
    "#create_tsv('./embeddings/glove.twitter.27B.100d.filtered.txt')"
   ]
  },
  {
   "cell_type": "code",
   "execution_count": 11,
   "metadata": {},
   "outputs": [
    {
     "name": "stdout",
     "output_type": "stream",
     "text": [
      "__________________________________________________________________________________________________\n",
      "Layer (type)                    Output Shape         Param #     Connected to                     \n",
      "==================================================================================================\n",
      "input_6 (InputLayer)            (None, 16)           0                                            \n",
      "__________________________________________________________________________________________________\n",
      "input_7 (InputLayer)            (None, 16)           0                                            \n",
      "__________________________________________________________________________________________________\n",
      "embedding_2 (Embedding)         (None, 16, 100)      2267900     input_6[0][0]                    \n",
      "                                                                 input_7[0][0]                    \n",
      "__________________________________________________________________________________________________\n",
      "input_5 (InputLayer)            (None, 2048)         0                                            \n",
      "__________________________________________________________________________________________________\n",
      "lstm_2 (LSTM)                   (None, 16, 256)      365568      embedding_2[0][0]                \n",
      "                                                                 embedding_2[1][0]                \n",
      "__________________________________________________________________________________________________\n",
      "dense_2 (Dense)                 (None, 256)          524544      input_5[0][0]                    \n",
      "__________________________________________________________________________________________________\n",
      "attention_1 (Attention)         (None, 256)          272         lstm_2[0][0]                     \n",
      "                                                                 lstm_2[1][0]                     \n",
      "__________________________________________________________________________________________________\n",
      "dot_1 (Dot)                     (None, 1)            0           dense_2[0][0]                    \n",
      "                                                                 attention_1[0][0]                \n",
      "__________________________________________________________________________________________________\n",
      "dot_2 (Dot)                     (None, 1)            0           dense_2[0][0]                    \n",
      "                                                                 attention_1[1][0]                \n",
      "__________________________________________________________________________________________________\n",
      "concatenate_1 (Concatenate)     (None, 2)            0           dot_1[0][0]                      \n",
      "                                                                 dot_2[0][0]                      \n",
      "==================================================================================================\n",
      "Total params: 3,158,284\n",
      "Trainable params: 3,158,284\n",
      "Non-trainable params: 0\n",
      "__________________________________________________________________________________________________\n"
     ]
    }
   ],
   "source": [
    "import numpy as np\n",
    "import json\n",
    "import keras\n",
    "from nltk.tokenize import word_tokenize, sent_tokenize\n",
    "from keras.applications.resnet50 import ResNet50\n",
    "from keras.preprocessing import image\n",
    "from attention import Attention\n",
    "from keras.applications.imagenet_utils import preprocess_input\n",
    "\n",
    "image_input = keras.layers.Input(shape=(2048,))\n",
    "caption_input = keras.layers.Input(shape=(16,))\n",
    "noise_input = keras.layers.Input(shape=(16,))\n",
    "\n",
    "caption_embedding = keras.layers.Embedding(len(vocab), 100, input_length=16, weights=[embedding_weights])\n",
    "caption_rnn = keras.layers.LSTM(256,return_sequences=True)\n",
    "image_dense = keras.layers.Dense(256, activation='tanh')\n",
    "\n",
    "attention = Attention()\n",
    "image_pipeline = image_dense(image_input)\n",
    "caption_pipeline = attention(caption_rnn(caption_embedding(caption_input)))\n",
    "noise_pipeline = attention(caption_rnn(caption_embedding(noise_input)))\n",
    "\n",
    "positive_pair = keras.layers.dot([image_pipeline, caption_pipeline], axes=1)\n",
    "negative_pair = keras.layers.dot([image_pipeline, noise_pipeline], axes=1)\n",
    "output = keras.layers.concatenate([positive_pair, negative_pair])\n",
    "\n",
    "training_model = keras.models.Model(input=[image_input, caption_input, noise_input], output=output)\n",
    "image_model = keras.models.Model(input=image_input, output=image_pipeline)\n",
    "caption_model = keras.models.Model(input=caption_input, output=caption_pipeline)\n",
    "\n",
    "training_model.summary()"
   ]
  },
  {
   "cell_type": "code",
   "execution_count": 17,
   "metadata": {},
   "outputs": [],
   "source": [
    "from keras import backend as K\n",
    "\n",
    "def custom_loss(y_true, y_pred):\n",
    "    positive = y_pred[:,0]\n",
    "    negative = y_pred[:,1]\n",
    "    return K.sum(K.maximum(0., 1. - positive + negative))\n",
    "\n",
    "def accuracy(y_true, y_pred):\n",
    "    positive = y_pred[:,0]\n",
    "    negative = y_pred[:,1]\n",
    "    return K.mean(positive > negative)"
   ]
  },
  {
   "cell_type": "code",
   "execution_count": 13,
   "metadata": {},
   "outputs": [],
   "source": [
    "training_model.compile(loss=custom_loss, optimizer='adam', metrics=[accuracy])"
   ]
  },
  {
   "cell_type": "code",
   "execution_count": null,
   "metadata": {},
   "outputs": [
    {
     "name": "stdout",
     "output_type": "stream",
     "text": [
      "Train on 35504 samples, validate on 5000 samples\n",
      "Epoch 1/50\n",
      "35504/35504 [==============================] - 16s 446us/step - loss: 25.5162 - accuracy: 0.9177 - val_loss: 19.3799 - val_accuracy: 0.9424\n",
      "Epoch 2/50\n",
      "35504/35504 [==============================] - 14s 407us/step - loss: 13.0344 - accuracy: 0.9598 - val_loss: 14.6236 - val_accuracy: 0.9542\n",
      "Epoch 3/50\n",
      "35504/35504 [==============================] - 14s 397us/step - loss: 10.4442 - accuracy: 0.9666 - val_loss: 12.8686 - val_accuracy: 0.9612\n",
      "Epoch 4/50\n",
      "35504/35504 [==============================] - 14s 394us/step - loss: 8.8451 - accuracy: 0.9726 - val_loss: 12.5985 - val_accuracy: 0.9610\n",
      "Epoch 5/50\n",
      "35504/35504 [==============================] - 14s 392us/step - loss: 7.9061 - accuracy: 0.9764 - val_loss: 11.5041 - val_accuracy: 0.9648\n",
      "Epoch 6/50\n",
      "35504/35504 [==============================] - 14s 396us/step - loss: 7.4016 - accuracy: 0.9760 - val_loss: 11.0546 - val_accuracy: 0.9632\n",
      "Epoch 7/50\n",
      "35504/35504 [==============================] - 14s 394us/step - loss: 6.7182 - accuracy: 0.9793 - val_loss: 10.6255 - val_accuracy: 0.9676\n",
      "Epoch 8/50\n",
      "35504/35504 [==============================] - 14s 392us/step - loss: 6.6168 - accuracy: 0.9789 - val_loss: 9.1309 - val_accuracy: 0.9712\n",
      "Epoch 9/50\n",
      "35504/35504 [==============================] - 14s 407us/step - loss: 6.5971 - accuracy: 0.9790 - val_loss: 10.0956 - val_accuracy: 0.9676\n",
      "Epoch 10/50\n",
      "35504/35504 [==============================] - 14s 395us/step - loss: 6.0909 - accuracy: 0.9811 - val_loss: 10.1966 - val_accuracy: 0.9700\n",
      "Epoch 11/50\n",
      "35504/35504 [==============================] - 14s 398us/step - loss: 6.1104 - accuracy: 0.9810 - val_loss: 9.3131 - val_accuracy: 0.9700\n",
      "Epoch 12/50\n",
      "35504/35504 [==============================] - 14s 399us/step - loss: 5.2920 - accuracy: 0.9843 - val_loss: 11.0864 - val_accuracy: 0.9658\n",
      "Epoch 13/50\n",
      "35504/35504 [==============================] - 14s 400us/step - loss: 5.6508 - accuracy: 0.9820 - val_loss: 9.1963 - val_accuracy: 0.9714\n",
      "Epoch 14/50\n",
      "35504/35504 [==============================] - 14s 394us/step - loss: 5.4793 - accuracy: 0.9825 - val_loss: 9.5719 - val_accuracy: 0.9690\n",
      "Epoch 15/50\n",
      "35504/35504 [==============================] - 14s 397us/step - loss: 5.0735 - accuracy: 0.9842 - val_loss: 9.5690 - val_accuracy: 0.9722\n",
      "Epoch 16/50\n",
      "35504/35504 [==============================] - 14s 396us/step - loss: 5.2796 - accuracy: 0.9833 - val_loss: 9.5585 - val_accuracy: 0.9710\n",
      "Epoch 17/50\n",
      "35504/35504 [==============================] - 14s 398us/step - loss: 5.0921 - accuracy: 0.9845 - val_loss: 9.7874 - val_accuracy: 0.9696\n",
      "Epoch 18/50\n",
      "35504/35504 [==============================] - 14s 396us/step - loss: 4.7402 - accuracy: 0.9855 - val_loss: 8.9259 - val_accuracy: 0.9720\n",
      "Epoch 19/50\n",
      "32128/35504 [==========================>...] - ETA: 1s - loss: 4.6490 - accuracy: 0.9856"
     ]
    }
   ],
   "source": [
    "from keras.callbacks import TensorBoard\n",
    "from time import time\n",
    "noise = np.copy(captions)\n",
    "fake_labels = np.zeros((len(features), 1))\n",
    "X_train = [features[:35504], captions[:35504], noise[:35504]]\n",
    "Y_train = fake_labels[:35504]\n",
    "X_valid = [features[-5000:], captions[-5000:], noise[-5000:]]\n",
    "Y_valid = fake_labels[-5000:]\n",
    "\n",
    "tensorboard = TensorBoard(log_dir='./logs/{}'.format(time()), histogram_freq=0,write_graph=True, write_images=False)\n",
    "shuffle_callback = keras.callbacks.LambdaCallback(on_epoch_begin=lambda epochs, logs: np.random.shuffle(noise))\n",
    "nb_epoch = 50\n",
    "\n",
    "h = training_model.fit(X_train, Y_train, validation_data=[X_valid, Y_valid], nb_epoch=nb_epoch, batch_size=128, verbose=1,callbacks=[shuffle_callback,tensorboard])"
   ]
  },
  {
   "cell_type": "code",
   "execution_count": 18,
   "metadata": {},
   "outputs": [
    {
     "data": {
      "image/png": "[encoded data removed]",
      "text/plain": [
       "<Figure size 432x288 with 1 Axes>"
      ]
     },
     "metadata": {
      "needs_background": "light"
     },
     "output_type": "display_data"
    },
    {
     "data": {
      "image/png": "[encoded data removed]",
      "text/plain": [
       "<Figure size 432x288 with 1 Axes>"
      ]
     },
     "metadata": {
      "needs_background": "light"
     },
     "output_type": "display_data"
    }
   ],
   "source": [
    "import matplotlib.pyplot as plt\n",
    "%matplotlib inline\n",
    "\n",
    "x_plt = np.arange(nb_epoch)\n",
    "plt.plot(x_plt, h.history['loss'], label='train')\n",
    "plt.plot(x_plt, h.history['val_loss'], label='val')\n",
    "plt.title(\"Loss\")\n",
    "plt.legend()\n",
    "plt.show()\n",
    "\n",
    "plt.plot(x_plt, h.history['accuracy'], label='train')\n",
    "plt.plot(x_plt, h.history['val_accuracy'], label='val')\n",
    "plt.title(\"Accuracy\")\n",
    "plt.legend()\n",
    "plt.show()"
   ]
  },
  {
   "cell_type": "code",
   "execution_count": 19,
   "metadata": {},
   "outputs": [],
   "source": [
    "#from imagenet_utils import preprocess_input\n",
    "resnet_model = ResNet50(weights='imagenet', include_top=False,pooling=\"avg\")\n",
    "def extract_features(img_path):\n",
    "    img = image.load_img(img_path, target_size=(224, 224))\n",
    "    x = image.img_to_array(img)\n",
    "    x = np.expand_dims(x, axis=0)\n",
    "    x = preprocess_input(x)\n",
    "    features = resnet_model.predict(x)\n",
    "    return np.expand_dims(features.flatten(), axis=0)"
   ]
  },
  {
   "cell_type": "code",
   "execution_count": 20,
   "metadata": {},
   "outputs": [],
   "source": [
    "caption_model.save('model.caption')\n",
    "np.save('caption-representations',caption_model.predict(captions))"
   ]
  },
  {
   "cell_type": "code",
   "execution_count": 21,
   "metadata": {},
   "outputs": [],
   "source": [
    "caption_representations = np.load('caption-representations.npy')"
   ]
  },
  {
   "cell_type": "code",
   "execution_count": 22,
   "metadata": {},
   "outputs": [],
   "source": [
    "def generate_caption(image_filename, n=50):\n",
    "    image_representation =image_model.predict(extract_features(image_filename))\n",
    "    scores = np.dot(caption_representations,image_representation.T).flatten()\n",
    "    indices = np.argpartition(scores, -n)[-n:]\n",
    "    indices = indices[np.argsort(scores[indices])]\n",
    "    print(indices)\n",
    "    for i in [int(x) for x in reversed(indices)]:\n",
    "        print(scores[i], texts[i])\n"
   ]
  },
  {
   "cell_type": "code",
   "execution_count": 25,
   "metadata": {},
   "outputs": [
    {
     "name": "stdout",
     "output_type": "stream",
     "text": [
      "[270832 340687 392119 340757 335966 345905 413646 152178  96687   4498\n",
      " 214243 142781  50596 403934 214305  30124 255458 264159  69634 408921\n",
      " 240117 413641 383429 281184 214296  19712  53692  84797 347634 214242\n",
      "  76301 219736 325942  84965 275949  79507 264992 413654  28446 163199\n",
      " 245021  19660  86545   4488 388680 281236 142770 408972 357846 212830]\n",
      "7.342305 a man with a baseball glove holding a baseball\n",
      "7.3317595 a man with a baseball bat in front of a man with a glove\n",
      "7.3317595 a man with a baseball bat in front of a man with a glove\n",
      "7.23167 a man with a baseball bat standing in front of a man with a ball\n",
      "7.101082 a man wearing a baseball glove and holding a baseball\n",
      "7.090976 a man who is holding a baseball bat playing baseball\n",
      "7.042645 a person with a baseball bat in the middle of a swing\n",
      "7.0113516 a man holding a baseball bat an playing baseball\n",
      "7.0061507 a man with a baseball bat playing baseball\n",
      "6.9744678 a man playing baseball is preparing to swing his bat at a baseball\n",
      "6.956215 a man in black shorts and a black holds a black baseball bat\n",
      "6.942629 a baseball mitt holds a baseball in the center of it\n",
      "6.88597 a man holding a baseball bat in front of another with a glove\n",
      "6.882331 a small boy wearing a baseball uniform runs through a gate preparing to play baseball\n",
      "6.8810453 a man with a baseball bat getting ready to swing\n",
      "6.868449 a man with a baseball bat preparing to swing\n",
      "6.86499 a man with a baseball mitten plays baseball\n",
      "6.8534822 a man holding a baseball and a baseball glove\n",
      "6.845672 a young person holding a baseball bat and a baseball\n",
      "6.8377366 a man holding a baseball bat in a baseball uniform\n",
      "6.8119144 a man holding a baseball bat getting ready to swing\n",
      "6.799162 a man with a baseball bat gets ready to swing it\n",
      "6.796094 a boy holding a baseball with a baseball glove\n",
      "6.78207 a woman holding a baseball glove and baseball\n",
      "6.7502203 a man holding a baseball bat wearing a baseball uniform\n",
      "6.7499456 a man with a helmet that is holding a baseball bat\n",
      "6.7399397 a man holding up his baseball bat during a baseball game\n",
      "6.7391233 a man with a baseball bat that is standing on a baseball field\n",
      "6.7336264 a man with a baseball bat playing baseball on a field\n",
      "6.7085094 a man holding a baseball bat as another holds a glove\n",
      "6.7015743 a man holds a baseball bat as if to swing at a ball\n",
      "6.692981 woman holding a baseball bat in front of a catcher\n",
      "6.6850657 a man holding a baseball bat during a baseball game\n",
      "6.6850657 a man holding a baseball bat during a baseball game\n",
      "6.6850657 a man holding a baseball bat during a baseball game\n",
      "6.6850657 a man holding a baseball bat during a baseball game\n",
      "6.6850657 a man holding a baseball bat during a baseball game\n",
      "6.678829 a man with an intense look holding a baseball bat\n",
      "6.6785316 a man batting as part of a baseball game on a baseball field\n",
      "6.6648254 a man holding a baseball bat as if to swing it\n",
      "6.656383 a man holding a baseball bat over his shoulder stands next to young boys\n",
      "6.6494317 a man in a baseball uniform putting his hand on a baseball players chest\n",
      "6.637392 person holding a baseball bat about to swing in front of a fence\n",
      "6.6373463 a person in jeans swinging a baseball bat at a baseball\n",
      "6.614084 an umpire looks on as a pitcher pitches a baseball\n",
      "6.6075287 a man holding a baseball bat in front of someone with a glove\n",
      "6.600499 a man holding a baseball bat in front of a catcher and umpire\n",
      "6.60004 a man holding a glove with a baseball in it on a field\n",
      "6.5896683 a man that is holding a baseball in a baseball field\n",
      "6.5694313 a man with a baseball bat on a wooden field\n"
     ]
    }
   ],
   "source": [
    "generate_caption('../data/test2014/COCO_test2014_000000000016.jpg')"
   ]
  },
  {
   "cell_type": "code",
   "execution_count": 60,
   "metadata": {},
   "outputs": [
    {
     "data": {
      "text/plain": [
       "array([ 1.44150183e-02,  6.38967101e-03, -1.19430594e-01,  2.03568563e-02,\n",
       "        7.04848766e-02, -5.60400635e-03, -7.83167332e-02,  5.00726029e-02,\n",
       "        7.49871582e-02, -4.44310009e-02,  1.46888554e-01, -3.54131907e-02,\n",
       "       -6.87035471e-02, -2.16380164e-01,  6.61126599e-02, -9.31951869e-03,\n",
       "       -7.23102540e-02, -4.64675128e-02,  5.27889207e-02,  1.04308173e-01,\n",
       "        1.97082236e-01,  1.63479239e-01, -2.62290761e-02,  1.85486272e-01,\n",
       "       -1.85691521e-01, -2.25510029e-03,  2.42771208e-02,  3.45366970e-02,\n",
       "        1.28807381e-01,  1.18435463e-02, -3.94895583e-01,  2.60396332e-01,\n",
       "        1.64383985e-02, -7.91222975e-02, -7.00553926e-03,  1.92818642e-01,\n",
       "        1.30232982e-02,  2.05963284e-01, -1.15039364e-01, -5.84230721e-02,\n",
       "       -7.34710991e-02, -1.41879871e-01, -4.36179340e-01, -2.33967811e-01,\n",
       "       -3.17076035e-02, -2.80960258e-02,  2.69154995e-03,  2.08860487e-01,\n",
       "        1.14576854e-02, -1.19928613e-01, -9.86498967e-02,  3.23925726e-02,\n",
       "        1.05228378e-02, -1.93281263e-01,  5.05358130e-02,  1.32752918e-02,\n",
       "        2.50600219e-01,  2.54854802e-02,  2.30669267e-02,  3.11531037e-01,\n",
       "        6.08981661e-02,  1.09288067e-01, -7.82052614e-03,  9.80728269e-02,\n",
       "        6.21648803e-02, -1.17079038e-02, -5.43204253e-04,  3.68649513e-03,\n",
       "       -2.52635055e-03,  6.08930439e-02,  1.94394052e-01,  7.24475160e-02,\n",
       "        1.89874917e-01, -4.87054944e-01,  6.97685629e-02, -2.99027115e-02,\n",
       "       -6.67949244e-02,  2.83203721e-02,  1.92139484e-02,  6.32441510e-03,\n",
       "       -1.65599340e-03,  4.14224807e-03,  4.84858043e-02,  6.19679093e-02,\n",
       "       -2.41376553e-03,  1.17205791e-02,  1.39813367e-02, -1.22153275e-02,\n",
       "       -1.01625919e-05,  1.36094284e-03, -8.71382374e-03, -7.37808365e-03,\n",
       "       -1.91688269e-01, -5.68188541e-02,  2.12956243e-03,  9.91759747e-02,\n",
       "       -1.97827816e-02, -2.61475593e-02,  2.98045397e-01,  1.69124633e-01,\n",
       "        2.81140320e-02, -7.78668597e-02, -1.94101334e-02, -1.17645502e-01,\n",
       "       -1.34521704e-02, -5.36420532e-02, -8.65312517e-02, -1.54726505e-02,\n",
       "       -3.14121284e-02,  1.58911590e-02,  1.04015740e-02, -1.62534237e-01,\n",
       "       -2.05268897e-02,  1.33848265e-02, -2.49806829e-02,  4.50427234e-02,\n",
       "       -3.79734263e-02,  1.65861279e-01, -1.71612091e-02, -1.89760149e-01,\n",
       "       -2.01032795e-02,  2.24965811e-03, -3.26988511e-02,  1.37954345e-03,\n",
       "        3.39119807e-02,  1.55150771e-01,  1.22258216e-01, -2.21386105e-02,\n",
       "        1.18162632e-01, -3.37662548e-01, -1.53390661e-01, -3.62330079e-02,\n",
       "        4.03666228e-01,  4.70500160e-03, -3.47980931e-02,  5.14198840e-02,\n",
       "       -6.68670237e-02, -1.69721082e-01, -9.97326896e-03,  1.55161694e-02,\n",
       "        6.43099248e-02, -3.29901837e-02,  2.00748980e-01, -2.25851703e-02,\n",
       "       -2.80801475e-01,  5.08102067e-02, -2.86830038e-01,  5.07910587e-02,\n",
       "       -9.31746662e-02, -1.83683187e-01, -5.50710596e-03,  8.96520689e-02,\n",
       "       -5.10357460e-03,  9.83182117e-02,  1.50242634e-02,  1.91242918e-02,\n",
       "        5.23568615e-02,  2.64553279e-02, -2.19386756e-01,  4.82758798e-04,\n",
       "        9.02303457e-02,  1.84561878e-01,  1.35330427e-02, -5.09289242e-02,\n",
       "       -6.51797745e-03, -1.36750937e-01, -6.79283729e-03, -2.76104864e-02,\n",
       "        1.22015312e-01,  8.94289464e-03, -1.12054180e-02,  1.56301409e-02,\n",
       "        2.24925508e-03,  1.06155768e-01,  3.43291368e-03, -1.25391167e-02,\n",
       "       -1.14048496e-02, -1.72149211e-01,  9.81017761e-03,  4.16595042e-02,\n",
       "        4.79648337e-02,  3.88142645e-01, -6.14411160e-02,  1.65182456e-01,\n",
       "        1.96720213e-02,  1.12239018e-01, -1.19920254e-01, -5.86699462e-03,\n",
       "       -4.19928730e-02, -1.45320415e-01, -4.11361083e-02, -8.27869028e-02,\n",
       "        1.52144492e-01, -9.33453590e-02,  2.59446651e-02, -1.63098499e-02,\n",
       "        2.66756788e-02,  1.09988553e-02, -2.82095037e-02,  1.40155271e-01,\n",
       "       -5.04589453e-03, -1.64070249e-01,  2.36231670e-01,  2.44761854e-02,\n",
       "        3.10321718e-01, -1.56549856e-01,  1.15560129e-01, -8.03301558e-02,\n",
       "       -8.28402042e-02,  3.08616105e-02,  4.18183059e-02,  2.78211143e-02,\n",
       "       -9.11604315e-02, -8.55936259e-02, -2.40256935e-01, -6.16395660e-02,\n",
       "        9.33617819e-03,  5.18553481e-02, -5.77289276e-02, -1.00081071e-01,\n",
       "        1.68221012e-01, -5.61614558e-02,  5.10865226e-02, -7.32395276e-02,\n",
       "       -5.81547841e-02, -1.32695241e-02, -3.20967915e-03, -3.05496827e-02,\n",
       "        2.41938576e-01, -2.21411958e-02,  7.06746578e-02, -1.03120044e-01,\n",
       "       -4.27436717e-02, -2.56807040e-02,  4.20226231e-02, -6.90800026e-02,\n",
       "        6.57881349e-02, -4.46521735e-04, -3.74477580e-02, -3.61361681e-03,\n",
       "       -9.36868228e-03, -1.22616086e-02,  2.18811315e-02, -1.13257617e-02,\n",
       "       -1.73312221e-02, -5.60589656e-02,  1.32914195e-02, -6.07358478e-03,\n",
       "        1.05697196e-03,  4.15140390e-02,  6.04651123e-02,  7.59718120e-02,\n",
       "        3.80437751e-03, -2.17769295e-03,  1.87581658e-01,  1.05852038e-02],\n",
       "      dtype=float32)"
      ]
     },
     "execution_count": 60,
     "metadata": {},
     "output_type": "execute_result"
    }
   ],
   "source": [
    "caption_representations[0]"
   ]
  },
  {
   "cell_type": "code",
   "execution_count": 27,
   "metadata": {},
   "outputs": [
    {
     "name": "stdout",
     "output_type": "stream",
     "text": [
      "__________________________________________________________________________________________________\n",
      "Layer (type)                    Output Shape         Param #     Connected to                     \n",
      "==================================================================================================\n",
      "input_11 (InputLayer)           (None, 16)           0                                            \n",
      "__________________________________________________________________________________________________\n",
      "input_12 (InputLayer)           (None, 16)           0                                            \n",
      "__________________________________________________________________________________________________\n",
      "input_10 (InputLayer)           (None, 2048)         0                                            \n",
      "__________________________________________________________________________________________________\n",
      "embedding_3 (Embedding)         (None, 16, 100)      2267900     input_11[0][0]                   \n",
      "                                                                 input_12[0][0]                   \n",
      "__________________________________________________________________________________________________\n",
      "dense_3 (Dense)                 (None, 256)          524544      input_10[0][0]                   \n",
      "__________________________________________________________________________________________________\n",
      "gru_1 (GRU)                     (None, 256)          274176      embedding_3[0][0]                \n",
      "                                                                 embedding_3[1][0]                \n",
      "__________________________________________________________________________________________________\n",
      "dot_3 (Dot)                     (None, 1)            0           dense_3[0][0]                    \n",
      "                                                                 gru_1[0][0]                      \n",
      "__________________________________________________________________________________________________\n",
      "dot_4 (Dot)                     (None, 1)            0           dense_3[0][0]                    \n",
      "                                                                 gru_1[1][0]                      \n",
      "__________________________________________________________________________________________________\n",
      "concatenate_2 (Concatenate)     (None, 2)            0           dot_3[0][0]                      \n",
      "                                                                 dot_4[0][0]                      \n",
      "==================================================================================================\n",
      "Total params: 3,066,620\n",
      "Trainable params: 3,066,620\n",
      "Non-trainable params: 0\n",
      "__________________________________________________________________________________________________\n"
     ]
    }
   ],
   "source": [
    "import numpy as np\n",
    "import json\n",
    "import keras\n",
    "from nltk.tokenize import word_tokenize, sent_tokenize\n",
    "from keras.applications.resnet50 import ResNet50\n",
    "from keras.preprocessing import image\n",
    "\n",
    "from keras.applications.imagenet_utils import preprocess_input\n",
    "\n",
    "image_input = keras.layers.Input(shape=(2048,))\n",
    "caption_input = keras.layers.Input(shape=(16,))\n",
    "noise_input = keras.layers.Input(shape=(16,))\n",
    "\n",
    "caption_embedding = keras.layers.Embedding(len(vocab), 100, input_length=16, weights=[embedding_weights])\n",
    "caption_rnn = keras.layers.GRU(256)\n",
    "image_dense = keras.layers.Dense(256, activation='tanh')\n",
    "\n",
    "image_pipeline = image_dense(image_input)\n",
    "caption_pipeline = caption_rnn(caption_embedding(caption_input))\n",
    "noise_pipeline = caption_rnn(caption_embedding(noise_input))\n",
    "\n",
    "positive_pair = keras.layers.dot([image_pipeline, caption_pipeline], axes=1)\n",
    "negative_pair = keras.layers.dot([image_pipeline, noise_pipeline], axes=1)\n",
    "output = keras.layers.concatenate([positive_pair, negative_pair])\n",
    "\n",
    "training_model = keras.models.Model(input=[image_input, caption_input, noise_input], output=output)\n",
    "image_model = keras.models.Model(input=image_input, output=image_pipeline)\n",
    "caption_model = keras.models.Model(input=caption_input, output=caption_pipeline)\n",
    "\n",
    "training_model.summary()"
   ]
  },
  {
   "cell_type": "code",
   "execution_count": 28,
   "metadata": {},
   "outputs": [],
   "source": [
    "from keras.callbacks import TensorBoard\n",
    "from time import time\n",
    "training_model.compile(loss=custom_loss, optimizer='adam', metrics=[accuracy])\n",
    "\n",
    "noise = np.copy(captions)\n",
    "fake_labels = np.zeros((len(features), 1))\n",
    "X_train = [features[:35504], captions[:35504], noise[:35504]]\n",
    "Y_train = fake_labels[:35504]\n",
    "X_valid = [features[-5000:], captions[-5000:], noise[-5000:]]\n",
    "Y_valid = fake_labels[-5000:]\n",
    "\n",
    "tensorboard = TensorBoard(log_dir='./logs/{}'.format(time()), histogram_freq=0,write_graph=True, write_images=False)\n",
    "shuffle_callback = keras.callbacks.LambdaCallback(on_epoch_begin=lambda epochs, logs: np.random.shuffle(noise))\n",
    "nb_epoch = 50\n",
    "\n",
    "h = training_model.fit(X_train, Y_train, validation_data=[X_valid, Y_valid], nb_epoch=nb_epoch, batch_size=64, verbose=0,callbacks=[shuffle_callback,tensorboard])"
   ]
  },
  {
   "cell_type": "code",
   "execution_count": 29,
   "metadata": {},
   "outputs": [],
   "source": [
    "caption_model.save('model.caption')\n",
    "np.save('caption-representations',caption_model.predict(captions))\n",
    "caption_representations = np.load('caption-representations.npy')"
   ]
  },
  {
   "cell_type": "code",
   "execution_count": 30,
   "metadata": {},
   "outputs": [],
   "source": [
    "def generate_caption(image_filename, n=10):\n",
    "    image_representation =image_model.predict(extract_features(image_filename))\n",
    "    scores = np.dot(caption_representations,image_representation.T).flatten()\n",
    "    indices = np.argpartition(scores, -n)[-n:]\n",
    "    indices = indices[np.argsort(scores[indices])]\n",
    "    print(indices)\n",
    "    for i in [int(x) for x in reversed(indices)]:\n",
    "        print(scores[i], texts[i])\n"
   ]
  },
  {
   "cell_type": "code",
   "execution_count": 31,
   "metadata": {},
   "outputs": [
    {
     "name": "stdout",
     "output_type": "stream",
     "text": [
      "[341925  19645 270815 393813   4447 168287 351239 403924 146167  12959]\n",
      "13.158798 a pitcher throwing a baseball to home plate with a catcher and umpire waiting for the ball\n",
      "13.112135 a baseball player at bat swinging his bat and a catcher behind the plate holding his glove out\n",
      "12.918356 a baseball player getting ready to bat while a catcher squats behind him preparing to catch the ball\n",
      "12.83173 two baseball players a catcher and a ball player with a bat held in swing position stand ready\n",
      "12.801717 a baseball player at bat with a catcher and umpire behind him and people watching from the stands\n",
      "12.674946 a youth baseball game with a player at bat and a catcher behind home plate with his glove out\n",
      "12.623693 a batter poised to hit the ball in front of a catcher and umpire during a game\n",
      "12.616161 a baseball player is ready to swing at the ball as the catcher and umpire crouch behind him\n",
      "12.417097 a batter swings at the ball in a baseball game with the catcher and umpire behind him\n",
      "12.4148445 a baseball game with the pitcher delivering a pitch and a batter waiting at home plate for the ball with a catcher and umpire behind the plate\n"
     ]
    }
   ],
   "source": [
    "generate_caption('../data/test2014/COCO_test2014_000000000016.jpg')"
   ]
  },
  {
   "cell_type": "code",
   "execution_count": null,
   "metadata": {},
   "outputs": [],
   "source": []
  }
 ],
 "metadata": {
  "accelerator": "GPU",
  "kernelspec": {
   "display_name": "Python 3",
   "language": "python",
   "name": "python3"
  },
  "language_info": {
   "codemirror_mode": {
    "name": "ipython",
    "version": 3
   },
   "file_extension": ".py",
   "mimetype": "text/x-python",
   "name": "python",
   "nbconvert_exporter": "python",
   "pygments_lexer": "ipython3",
   "version": "3.5.3"
  }
 },
 "nbformat": 4,
 "nbformat_minor": 2
}
