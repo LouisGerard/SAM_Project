{
 "cells": [
  {
   "cell_type": "code",
   "execution_count": 1,
   "metadata": {},
   "outputs": [],
   "source": [
    "import sys\n",
    "venv_root = '/var/lib/vz/data/g13005245/DEEP/'\n",
    "sys.path.append(venv_root + 'lib/python3.5/site-packages')\n",
    "\n",
    "import warnings\n",
    "warnings.filterwarnings('ignore')"
   ]
  },
  {
   "cell_type": "code",
   "execution_count": 70,
   "metadata": {},
   "outputs": [],
   "source": [
    "import numpy as np\n",
    "\n",
    "import keras\n",
    "\n",
    "from keras.applications.resnet50 import ResNet50\n",
    "from keras.preprocessing import image\n",
    "\n",
    "from keras.applications.imagenet_utils import preprocess_input\n",
    "\n",
    "resnet_model = ResNet50(weights='imagenet', include_top=False, pooling=\"avg\")\n",
    "# resnet_model.summary()\n",
    "\n",
    "def extract_features(img_path):\n",
    "    img = image.load_img(img_path, target_size=(224, 224))\n",
    "    x = image.img_to_array(img)\n",
    "    x = np.expand_dims(x, axis=0)\n",
    "    x = preprocess_input(x)\n",
    "    features = resnet_model.predict(x)\n",
    "    return np.expand_dims(features.flatten(), axis=0)\n",
    "\n",
    "from os import listdir\n",
    "features = []\n",
    "for f in listdir('data/val2014/'):\n",
    "    features.append(extract_features(\"data/val2014/\" + f))\n",
    "features = np.array(features)"
   ]
  },
  {
   "cell_type": "code",
   "execution_count": 23,
   "metadata": {},
   "outputs": [],
   "source": [
    "def load(captions_filename, features_filename):\n",
    "    features = np.load(features_filename)\n",
    "    images = []\n",
    "    texts = []\n",
    "    with open(captions_filename) as fp:\n",
    "        for line in fp:\n",
    "            tokens = line.strip().split()\n",
    "            images.append(tokens[0])\n",
    "            texts.append(' '.join(tokens[1:]))\n",
    "    return features, images, texts"
   ]
  },
  {
   "cell_type": "code",
   "execution_count": 74,
   "metadata": {},
   "outputs": [],
   "source": [
    "import json\n",
    "with open('data/annotations/captions_val2014.json', 'r') as f:\n",
    "    data = json.load(f)\n",
    "\n",
    "texts = [caption['caption'] for caption in data['annotations']]\n",
    "\n",
    "# texts = load('data/annotations/captions_val2014.json', \"data/val2014/COCO_val2014_000000193405.jpg\")"
   ]
  },
  {
   "cell_type": "code",
   "execution_count": 60,
   "metadata": {},
   "outputs": [
    {
     "data": {
      "text/plain": [
       "'A bicycle replica with a clock as the front wheel.'"
      ]
     },
     "execution_count": 60,
     "metadata": {},
     "output_type": "execute_result"
    }
   ],
   "source": [
    "texts[0]"
   ]
  },
  {
   "cell_type": "code",
   "execution_count": 75,
   "metadata": {},
   "outputs": [],
   "source": [
    "from keras.preprocessing.text import Tokenizer\n",
    "from keras.preprocessing.sequence import pad_sequences\n",
    "\n",
    "tokenizer = Tokenizer()\n",
    "tokenizer.fit_on_texts(texts)\n",
    "sequences = tokenizer.texts_to_sequences(texts)\n",
    "captions = pad_sequences(sequences, maxlen=16)\n",
    "\n",
    "# It’s the right time to save the vocabulary so that we can reload it later.\n",
    "vocab = tokenizer.word_index\n",
    "vocab['<eos>'] = 0\n",
    "\n",
    "# add word with id 0\n",
    "import json\n",
    "with open('vocab.json', 'w') as fp:\n",
    "    # save the vocab\n",
    "    fp.write(json.dumps(vocab))"
   ]
  },
  {
   "cell_type": "code",
   "execution_count": 76,
   "metadata": {},
   "outputs": [
    {
     "name": "stderr",
     "output_type": "stream",
     "text": [
      "loading embeddings from \"embeddings/glove.twitter.27B.100d.filtered.txt\"\n"
     ]
    }
   ],
   "source": [
    "import embedding\n",
    "\n",
    "embedding_weights = embedding.load(vocab, 100, 'embeddings/glove.twitter.27B.100d.filtered.txt')"
   ]
  },
  {
   "cell_type": "code",
   "execution_count": 95,
   "metadata": {},
   "outputs": [
    {
     "name": "stdout",
     "output_type": "stream",
     "text": [
      "__________________________________________________________________________________________________\n",
      "Layer (type)                    Output Shape         Param #     Connected to                     \n",
      "==================================================================================================\n",
      "input_48 (InputLayer)           (None, 16)           0                                            \n",
      "__________________________________________________________________________________________________\n",
      "input_49 (InputLayer)           (None, 16)           0                                            \n",
      "__________________________________________________________________________________________________\n",
      "input_47 (InputLayer)           (None, 2048)         0                                            \n",
      "__________________________________________________________________________________________________\n",
      "embedding_12 (Embedding)        (None, 16, 100)      1768000     input_48[0][0]                   \n",
      "                                                                 input_49[0][0]                   \n",
      "__________________________________________________________________________________________________\n",
      "dense_17 (Dense)                (None, 256)          524544      input_47[0][0]                   \n",
      "__________________________________________________________________________________________________\n",
      "gru_12 (GRU)                    (None, 256)          274176      embedding_12[0][0]               \n",
      "                                                                 embedding_12[1][0]               \n",
      "__________________________________________________________________________________________________\n",
      "dot_19 (Dot)                    (None, 1)            0           dense_17[0][0]                   \n",
      "                                                                 gru_12[0][0]                     \n",
      "__________________________________________________________________________________________________\n",
      "dot_20 (Dot)                    (None, 1)            0           dense_17[0][0]                   \n",
      "                                                                 gru_12[1][0]                     \n",
      "__________________________________________________________________________________________________\n",
      "concatenate_9 (Concatenate)     (None, 2)            0           dot_19[0][0]                     \n",
      "                                                                 dot_20[0][0]                     \n",
      "==================================================================================================\n",
      "Total params: 2,566,720\n",
      "Trainable params: 2,566,720\n",
      "Non-trainable params: 0\n",
      "__________________________________________________________________________________________________\n"
     ]
    }
   ],
   "source": [
    "image_input = keras.layers.Input(shape=(2048,))\n",
    "caption_input = keras.layers.Input(shape=(16,))\n",
    "noise_input = keras.layers.Input(shape=(16,))\n",
    "\n",
    "caption_embedding = keras.layers.Embedding(len(vocab), 100, input_length=16, weights=[embedding_weights])\n",
    "caption_rnn = keras.layers.GRU(256)\n",
    "image_dense = keras.layers.Dense(256, activation='tanh')\n",
    "\n",
    "image_pipeline = image_dense(image_input)\n",
    "caption_pipeline = caption_rnn(caption_embedding(caption_input))\n",
    "noise_pipeline = caption_rnn(caption_embedding(noise_input))\n",
    "\n",
    "positive_pair = keras.layers.dot([image_pipeline, caption_pipeline], axes=-1)\n",
    "negative_pair = keras.layers.dot([image_pipeline, noise_pipeline], axes=-1)\n",
    "output = keras.layers.concatenate([positive_pair, negative_pair])\n",
    "\n",
    "training_model = keras.models.Model(input=[image_input, caption_input, noise_input], output=output)\n",
    "image_model = keras.models.Model(input=image_input, output=image_pipeline)\n",
    "caption_model = keras.models.Model(input=caption_input, output=caption_pipeline)\n",
    "\n",
    "training_model.summary()"
   ]
  },
  {
   "cell_type": "code",
   "execution_count": 45,
   "metadata": {},
   "outputs": [],
   "source": [
    "from keras import backend as K\n",
    "\n",
    "def custom_loss(y_true, y_pred):\n",
    "    positive = y_pred[:,0]\n",
    "    negative = y_pred[:,1]\n",
    "    return K.sum(K.maximum(0., 1. - positive + negative))\n",
    "\n",
    "def accuracy(y_true, y_pred):\n",
    "    positive = y_pred[:,0]\n",
    "    negative = y_pred[:,1]\n",
    "    return K.mean(positive > negative)"
   ]
  },
  {
   "cell_type": "code",
   "execution_count": 96,
   "metadata": {},
   "outputs": [],
   "source": [
    "training_model.compile(loss=custom_loss, optimizer='adadelta', metrics=[accuracy])"
   ]
  },
  {
   "cell_type": "code",
   "execution_count": 97,
   "metadata": {},
   "outputs": [
    {
     "name": "stdout",
     "output_type": "stream",
     "text": [
      "Train on 9000 samples, validate on 1000 samples\n",
      "Epoch 1/10\n",
      "9000/9000 [==============================] - 15s 2ms/step - loss: 52.8909 - accuracy: 0.7338 - val_loss: 98.0032 - val_accuracy: 0.4860\n",
      "Epoch 2/10\n",
      "9000/9000 [==============================] - 6s 650us/step - loss: 33.8154 - accuracy: 0.7939 - val_loss: 93.1281 - val_accuracy: 0.3920\n",
      "Epoch 3/10\n",
      "9000/9000 [==============================] - 6s 657us/step - loss: 28.3224 - accuracy: 0.8224 - val_loss: 72.3140 - val_accuracy: 0.5090\n",
      "Epoch 4/10\n",
      "9000/9000 [==============================] - 6s 661us/step - loss: 26.9101 - accuracy: 0.8287 - val_loss: 85.5962 - val_accuracy: 0.4420\n",
      "Epoch 5/10\n",
      "9000/9000 [==============================] - 6s 661us/step - loss: 24.8830 - accuracy: 0.8422 - val_loss: 84.8162 - val_accuracy: 0.4300\n",
      "Epoch 6/10\n",
      "9000/9000 [==============================] - 6s 648us/step - loss: 24.5390 - accuracy: 0.8441 - val_loss: 80.2382 - val_accuracy: 0.4850\n",
      "Epoch 7/10\n",
      "9000/9000 [==============================] - 6s 672us/step - loss: 23.2804 - accuracy: 0.8494 - val_loss: 76.8016 - val_accuracy: 0.4980\n",
      "Epoch 8/10\n",
      "9000/9000 [==============================] - 6s 661us/step - loss: 22.1062 - accuracy: 0.8580 - val_loss: 96.5229 - val_accuracy: 0.3970\n",
      "Epoch 9/10\n",
      "9000/9000 [==============================] - 6s 654us/step - loss: 21.6737 - accuracy: 0.8603 - val_loss: 81.1232 - val_accuracy: 0.5030\n",
      "Epoch 10/10\n",
      "9000/9000 [==============================] - 6s 679us/step - loss: 20.3478 - accuracy: 0.8702 - val_loss: 96.4731 - val_accuracy: 0.4310\n"
     ]
    }
   ],
   "source": [
    "noise = np.copy(captions)\n",
    "fake_labels = np.zeros((len(features), 1))\n",
    "X_train = [features[:9000], captions[:9000], noise[:9000]]\n",
    "Y_train = fake_labels[:9000]\n",
    "X_valid = [features[-1000:], captions[-1000:], noise[-1000:]]\n",
    "Y_valid = fake_labels[-1000:]\n",
    "\n",
    "shuffle_callback = keras.callbacks.LambdaCallback(on_epoch_begin=lambda epochs, logs: np.random.shuffle(noise))\n",
    "nb_epoch = 10\n",
    "\n",
    "h = training_model.fit(X_train, Y_train, validation_data=[X_valid, Y_valid], nb_epoch=nb_epoch, batch_size=64, callbacks=[shuffle_callback])"
   ]
  },
  {
   "cell_type": "code",
   "execution_count": 98,
   "metadata": {},
   "outputs": [
    {
     "data": {
      "image/png": "[encoded data removed]",
      "text/plain": [
       "<Figure size 432x288 with 1 Axes>"
      ]
     },
     "metadata": {},
     "output_type": "display_data"
    },
    {
     "data": {
      "image/png": "[encoded data removed]",
      "text/plain": [
       "<Figure size 432x288 with 1 Axes>"
      ]
     },
     "metadata": {},
     "output_type": "display_data"
    }
   ],
   "source": [
    "import matplotlib.pyplot as plt\n",
    "%matplotlib inline\n",
    "\n",
    "x_plt = np.arange(nb_epoch)\n",
    "plt.plot(x_plt, h.history['loss'], label='train')\n",
    "plt.plot(x_plt, h.history['val_loss'], label='val')\n",
    "plt.legend()\n",
    "plt.show()\n",
    "\n",
    "plt.plot(x_plt, h.history['accuracy'], label='train')\n",
    "plt.plot(x_plt, h.history['val_accuracy'], label='val')\n",
    "plt.legend()\n",
    "plt.show()"
   ]
  }
 ],
 "metadata": {
  "accelerator": "GPU",
  "kernelspec": {
   "display_name": "Python 3",
   "language": "python",
   "name": "python3"
  },
  "language_info": {
   "codemirror_mode": {
    "name": "ipython",
    "version": 3
   },
   "file_extension": ".py",
   "mimetype": "text/x-python",
   "name": "python",
   "nbconvert_exporter": "python",
   "pygments_lexer": "ipython3",
   "version": "3.5.3"
  }
 },
 "nbformat": 4,
 "nbformat_minor": 2
}
