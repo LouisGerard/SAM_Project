{
 "cells": [
  {
   "cell_type": "code",
   "execution_count": 1,
   "metadata": {},
   "outputs": [],
   "source": [
    "import sys\n",
    "venv_root = '/var/lib/vz/data/c17000697/DEEP/'\n",
    "sys.path.append(venv_root + 'lib/python3.5/site-packages')\n",
    "\n",
    "import warnings\n",
    "warnings.filterwarnings('ignore')\n",
    "import os\n",
    "\n",
    "os.environ[\"CUDA_DEVICE_VISIBLE\"]=\"0\""
   ]
  },
  {
   "cell_type": "code",
   "execution_count": 2,
   "metadata": {},
   "outputs": [
    {
     "name": "stderr",
     "output_type": "stream",
     "text": [
      "Using TensorFlow backend.\n"
     ]
    }
   ],
   "source": [
    "import load_caption\n",
    "\n",
    "#features,texts=load_caption.extract_features_caption(_type='train',save_all=True,pooling=True)\n",
    "#print(features.shape)\n",
    "#print(len(texts))"
   ]
  },
  {
   "cell_type": "code",
   "execution_count": 3,
   "metadata": {},
   "outputs": [],
   "source": [
    "import numpy as np\n",
    "def load(captions_filename, features_filename):\n",
    "    features = np.load(features_filename)\n",
    "    images = []\n",
    "    texts = []\n",
    "    with open(captions_filename) as fp:\n",
    "        for line in fp:\n",
    "            tokens = line.strip().split()\n",
    "            images.append(tokens[0])\n",
    "            texts.append(' '.join(tokens[1:]))\n",
    "    return features, images, texts\n",
    "features,images,texts=load('../train.captions.txt','../resnet50-features.train.40k.npy')\n",
    "#print(features.shape)\n",
    "#print(len(texts))"
   ]
  },
  {
   "cell_type": "code",
   "execution_count": 4,
   "metadata": {},
   "outputs": [
    {
     "name": "stdout",
     "output_type": "stream",
     "text": [
      "414113\n"
     ]
    }
   ],
   "source": [
    "from keras.preprocessing.text import Tokenizer\n",
    "from keras.preprocessing.sequence import pad_sequences\n",
    "print(len(texts))\n",
    "tokenizer = Tokenizer()\n",
    "tokenizer.fit_on_texts(texts)\n",
    "sequences = tokenizer.texts_to_sequences(texts)\n",
    "captions = pad_sequences(sequences, maxlen=16)\n",
    "\n",
    "# It’s the right time to save the vocabulary so that we can reload it later.\n",
    "vocab = tokenizer.word_index\n",
    "vocab['<eos>'] = 0\n",
    "\n",
    "# add word with id 0\n",
    "import json\n",
    "with open('vocab.json', 'w') as fp:\n",
    "    # save the vocab\n",
    "    fp.write(json.dumps(vocab))"
   ]
  },
  {
   "cell_type": "code",
   "execution_count": 4,
   "metadata": {},
   "outputs": [
    {
     "data": {
      "text/plain": [
       "22679"
      ]
     },
     "execution_count": 4,
     "metadata": {},
     "output_type": "execute_result"
    }
   ],
   "source": [
    "len(vocab)"
   ]
  },
  {
   "cell_type": "code",
   "execution_count": 5,
   "metadata": {},
   "outputs": [
    {
     "name": "stderr",
     "output_type": "stream",
     "text": [
      "loading embeddings from \"../embeddings/glove.twitter.27B.100d.filtered.txt\"\n"
     ]
    }
   ],
   "source": [
    "import embedding\n",
    "\n",
    "\n",
    "embedding_weights = embedding.load(vocab, 100, '../embeddings/glove.twitter.27B.100d.filtered.txt')"
   ]
  },
  {
   "cell_type": "code",
   "execution_count": 9,
   "metadata": {},
   "outputs": [],
   "source": [
    "def create_tsv(filename):\n",
    "    print('loading embeddings from \"%s\"' % filename, file=sys.stderr)\n",
    "    with open(filename) as fp,open(filename+'_metadata.tsv','w+') as fp3,open(filename+\".tsv\",'w+') as fp2:\n",
    "        for line in fp:\n",
    "            vector = line.strip().split(' ',1)[1]\n",
    "            tokens = vector.split(' ')\n",
    "            for i in range(len(tokens)-2):\n",
    "                fp2.write(tokens[i]+'\\t')\n",
    "            fp2.write(tokens[len(tokens)-1]+'\\n')\n",
    "            fp3.write(line.strip().split(' ',1)[0]+\"\\n\")\n",
    "#create_tsv('./embeddings/glove.twitter.27B.100d.filtered.txt')"
   ]
  },
  {
   "cell_type": "code",
   "execution_count": 10,
   "metadata": {},
   "outputs": [
    {
     "name": "stdout",
     "output_type": "stream",
     "text": [
      "__________________________________________________________________________________________________\n",
      "Layer (type)                    Output Shape         Param #     Connected to                     \n",
      "==================================================================================================\n",
      "input_6 (InputLayer)            (None, 16)           0                                            \n",
      "__________________________________________________________________________________________________\n",
      "input_7 (InputLayer)            (None, 16)           0                                            \n",
      "__________________________________________________________________________________________________\n",
      "embedding_1 (Embedding)         (None, 16, 100)      2267900     input_6[0][0]                    \n",
      "                                                                 input_7[0][0]                    \n",
      "__________________________________________________________________________________________________\n",
      "input_5 (InputLayer)            (None, 2048)         0                                            \n",
      "__________________________________________________________________________________________________\n",
      "lstm_1 (LSTM)                   (None, 16, 256)      365568      embedding_1[0][0]                \n",
      "                                                                 embedding_1[1][0]                \n",
      "__________________________________________________________________________________________________\n",
      "dense_1 (Dense)                 (None, 256)          524544      input_5[0][0]                    \n",
      "__________________________________________________________________________________________________\n",
      "attention_1 (Attention)         (None, 256)          272         lstm_1[0][0]                     \n",
      "                                                                 lstm_1[1][0]                     \n",
      "__________________________________________________________________________________________________\n",
      "dot_1 (Dot)                     (None, 1)            0           dense_1[0][0]                    \n",
      "                                                                 attention_1[0][0]                \n",
      "__________________________________________________________________________________________________\n",
      "dot_2 (Dot)                     (None, 1)            0           dense_1[0][0]                    \n",
      "                                                                 attention_1[1][0]                \n",
      "__________________________________________________________________________________________________\n",
      "concatenate_1 (Concatenate)     (None, 2)            0           dot_1[0][0]                      \n",
      "                                                                 dot_2[0][0]                      \n",
      "==================================================================================================\n",
      "Total params: 3,158,284\n",
      "Trainable params: 3,158,284\n",
      "Non-trainable params: 0\n",
      "__________________________________________________________________________________________________\n"
     ]
    }
   ],
   "source": [
    "import numpy as np\n",
    "import json\n",
    "import keras\n",
    "from nltk.tokenize import word_tokenize, sent_tokenize\n",
    "from keras.applications.resnet50 import ResNet50\n",
    "from keras.preprocessing import image\n",
    "from attention import Attention\n",
    "from keras.applications.imagenet_utils import preprocess_input\n",
    "\n",
    "image_input = keras.layers.Input(shape=(2048,))\n",
    "caption_input = keras.layers.Input(shape=(16,))\n",
    "noise_input = keras.layers.Input(shape=(16,))\n",
    "\n",
    "caption_embedding = keras.layers.Embedding(len(vocab), 100, input_length=16, weights=[embedding_weights])\n",
    "caption_rnn = keras.layers.LSTM(256,return_sequences=True)\n",
    "image_dense = keras.layers.Dense(256, activation='tanh')\n",
    "\n",
    "attention = Attention()\n",
    "image_pipeline = image_dense(image_input)\n",
    "caption_pipeline = attention(caption_rnn(caption_embedding(caption_input)))\n",
    "noise_pipeline = attention(caption_rnn(caption_embedding(noise_input)))\n",
    "\n",
    "positive_pair = keras.layers.dot([image_pipeline, caption_pipeline], axes=1)\n",
    "negative_pair = keras.layers.dot([image_pipeline, noise_pipeline], axes=1)\n",
    "output = keras.layers.concatenate([positive_pair, negative_pair])\n",
    "\n",
    "training_model = keras.models.Model(input=[image_input, caption_input, noise_input], output=output)\n",
    "image_model = keras.models.Model(input=image_input, output=image_pipeline)\n",
    "caption_model = keras.models.Model(input=caption_input, output=caption_pipeline)\n",
    "\n",
    "training_model.summary()"
   ]
  },
  {
   "cell_type": "code",
   "execution_count": 5,
   "metadata": {},
   "outputs": [],
   "source": [
    "from keras import backend as K\n",
    "\n",
    "def custom_loss(y_true, y_pred):\n",
    "    positive = y_pred[:,0]\n",
    "    negative = y_pred[:,1]\n",
    "    return K.sum(K.maximum(0., 1. - positive + negative))\n",
    "\n",
    "def accuracy(y_true, y_pred):\n",
    "    positive = y_pred[:,0]\n",
    "    negative = y_pred[:,1]\n",
    "    return K.mean(positive > negative)"
   ]
  },
  {
   "cell_type": "code",
   "execution_count": 12,
   "metadata": {},
   "outputs": [],
   "source": [
    "training_model.compile(loss=custom_loss, optimizer='adam', metrics=[accuracy])"
   ]
  },
  {
   "cell_type": "code",
   "execution_count": 17,
   "metadata": {},
   "outputs": [],
   "source": [
    "from keras.callbacks import TensorBoard\n",
    "from time import time\n",
    "noise = np.copy(captions)\n",
    "fake_labels = np.zeros((len(features), 1))\n",
    "X_train = [features[:409113], captions[:409113], noise[:409113]]\n",
    "Y_train = fake_labels[:409113]\n",
    "X_valid = [features[-5000:], captions[-5000:], noise[-5000:]]\n",
    "Y_valid = fake_labels[-5000:]\n",
    "\n",
    "tensorboard = TensorBoard(log_dir='./logs/{}'.format(time()), histogram_freq=0,write_graph=True, write_images=False)\n",
    "shuffle_callback = keras.callbacks.LambdaCallback(on_epoch_begin=lambda epochs, logs: np.random.shuffle(noise))\n",
    "nb_epoch = 50\n",
    "\n",
    "h = training_model.fit(X_train, Y_train, validation_data=[X_valid, Y_valid], nb_epoch=nb_epoch, batch_size=128, verbose=0,callbacks=[shuffle_callback,tensorboard])"
   ]
  },
  {
   "cell_type": "code",
   "execution_count": 18,
   "metadata": {},
   "outputs": [
    {
     "data": {
      "image/png": "[encoded data removed]",
      "text/plain": [
       "<Figure size 432x288 with 1 Axes>"
      ]
     },
     "metadata": {
      "needs_background": "light"
     },
     "output_type": "display_data"
    },
    {
     "data": {
      "image/png": "[encoded data removed]",
      "text/plain": [
       "<Figure size 432x288 with 1 Axes>"
      ]
     },
     "metadata": {
      "needs_background": "light"
     },
     "output_type": "display_data"
    }
   ],
   "source": [
    "import matplotlib.pyplot as plt\n",
    "%matplotlib inline\n",
    "\n",
    "x_plt = np.arange(nb_epoch)\n",
    "plt.plot(x_plt, h.history['loss'], label='train')\n",
    "plt.plot(x_plt, h.history['val_loss'], label='val')\n",
    "plt.title(\"Loss\")\n",
    "plt.legend()\n",
    "plt.show()\n",
    "\n",
    "plt.plot(x_plt, h.history['accuracy'], label='train')\n",
    "plt.plot(x_plt, h.history['val_accuracy'], label='val')\n",
    "plt.title(\"Accuracy\")\n",
    "plt.legend()\n",
    "plt.show()"
   ]
  },
  {
   "cell_type": "code",
   "execution_count": 6,
   "metadata": {},
   "outputs": [],
   "source": [
    "#from keras.models import load_model\n",
    "#training_model.save('training_model.h5')\n",
    "#caption_model.save('caption_model.h5')\n",
    "#image_model.save('image_model.h5')\n",
    "from keras.models import load_model\n",
    "from attention import Attention\n",
    "training_model = load_model('training_model.h5',custom_objects={'Attention':Attention,'custom_loss':custom_loss,'accuracy':accuracy})\n",
    "caption_model = load_model('caption_model.h5',custom_objects={'Attention':Attention,'custom_loss':custom_loss,'accuracy':accuracy})\n",
    "image_model = load_model('image_model.h5',custom_objects={'Attention':Attention,'custom_loss':custom_loss,'accuracy':accuracy})"
   ]
  },
  {
   "cell_type": "code",
   "execution_count": 7,
   "metadata": {},
   "outputs": [],
   "source": [
    "#from imagenet_utils import preprocess_input\n",
    "from keras.applications.resnet50 import ResNet50\n",
    "resnet_model = ResNet50(weights='imagenet', include_top=False,pooling=\"avg\")\n",
    "def extract_features(img_path):\n",
    "    img = image.load_img(img_path, target_size=(224, 224))\n",
    "    x = image.img_to_array(img)\n",
    "    x = np.expand_dims(x, axis=0)\n",
    "    x = preprocess_input(x)\n",
    "    features = resnet_model.predict(x)\n",
    "    return np.expand_dims(features.flatten(), axis=0)"
   ]
  },
  {
   "cell_type": "code",
   "execution_count": 8,
   "metadata": {},
   "outputs": [],
   "source": [
    "#caption_model.save('model.caption')\n",
    "np.save('caption-representations_2',caption_model.predict(captions))"
   ]
  },
  {
   "cell_type": "code",
   "execution_count": 9,
   "metadata": {},
   "outputs": [],
   "source": [
    "caption_representations = np.load('caption-representations_2.npy')"
   ]
  },
  {
   "cell_type": "code",
   "execution_count": 35,
   "metadata": {},
   "outputs": [],
   "source": [
    "def generate_caption(image_filename, n=1,features=False):\n",
    "    if features: \n",
    "        image_representation =image_model.predict(features.reshape((1,2048)))\n",
    "    else:\n",
    "        image_representation =image_model.predict(extract_features(image_filename))\n",
    "    scores = np.dot(caption_representations,image_representation.T).flatten()\n",
    "    indices = np.argpartition(scores, -n)[-n:]\n",
    "    indices = indices[np.argsort(scores[indices])]\n",
    "    print(indices)\n",
    "    for i in [int(x) for x in reversed(indices)]:\n",
    "        print(scores[i], texts[i])\n",
    "\n",
    "        "
   ]
  },
  {
   "cell_type": "code",
   "execution_count": 52,
   "metadata": {},
   "outputs": [
    {
     "name": "stdout",
     "output_type": "stream",
     "text": [
      "[126209]\n",
      "8.381756 a woman eating a donut and pointing at donuts\n"
     ]
    }
   ],
   "source": [
    "import numpy as np\n",
    "import json\n",
    "from nltk.tokenize import word_tokenize\n",
    "from keras.applications.resnet50 import ResNet50\n",
    "from keras.preprocessing import image\n",
    "\n",
    "from keras.applications.imagenet_utils import preprocess_input\n",
    "generate_caption('./data_test/images/00000.jpg')"
   ]
  },
  {
   "cell_type": "code",
   "execution_count": 10,
   "metadata": {},
   "outputs": [],
   "source": [
    "features,images,texts=load('./data_test/captions.txt','./data_test/image_features.npy')\n",
    "#sequences = tokenizer.texts_to_sequences(texts)\n",
    "#captions = pad_sequences(sequences, maxlen=16)\n"
   ]
  },
  {
   "cell_type": "code",
   "execution_count": 11,
   "metadata": {},
   "outputs": [
    {
     "name": "stdout",
     "output_type": "stream",
     "text": [
      "10000\n"
     ]
    }
   ],
   "source": [
    "from keras.preprocessing.text import Tokenizer\n",
    "from keras.preprocessing.sequence import pad_sequences\n",
    "print(len(texts))\n",
    "#tokenizer = Tokenizer()\n",
    "#tokenizer.fit_on_texts(texts)\n",
    "sequences = tokenizer.texts_to_sequences(texts)\n",
    "captions = pad_sequences(sequences, maxlen=16)\n",
    "\n",
    "# It’s the right time to save the vocabulary so that we can reload it later.\n",
    "vocab = tokenizer.word_index\n",
    "vocab['<eos>'] = 0\n",
    "\n",
    "caption_representations = caption_model.predict(captions)"
   ]
  },
  {
   "cell_type": "code",
   "execution_count": 12,
   "metadata": {},
   "outputs": [
    {
     "data": {
      "text/plain": [
       "22679"
      ]
     },
     "execution_count": 12,
     "metadata": {},
     "output_type": "execute_result"
    }
   ],
   "source": [
    "len(vocab)"
   ]
  },
  {
   "cell_type": "code",
   "execution_count": 59,
   "metadata": {},
   "outputs": [
    {
     "name": "stdout",
     "output_type": "stream",
     "text": [
      "0.0 %\n",
      "1.0 %\n",
      "2.0 %\n",
      "3.0 %\n",
      "4.0 %\n",
      "5.0 %\n",
      "6.0 %\n",
      "7.0 %\n",
      "8.0 %\n",
      "9.0 %\n",
      "10.0 %\n",
      "11.0 %\n",
      "12.0 %\n",
      "13.0 %\n",
      "14.0 %\n",
      "15.0 %\n",
      "16.0 %\n",
      "17.0 %\n",
      "18.0 %\n",
      "19.0 %\n",
      "20.0 %\n",
      "21.0 %\n",
      "22.0 %\n",
      "23.0 %\n",
      "24.0 %\n",
      "25.0 %\n",
      "26.0 %\n",
      "27.0 %\n",
      "28.0 %\n",
      "29.0 %\n",
      "30.0 %\n",
      "31.0 %\n",
      "32.0 %\n",
      "33.0 %\n",
      "34.0 %\n",
      "35.0 %\n",
      "36.0 %\n",
      "37.0 %\n",
      "38.0 %\n",
      "39.0 %\n",
      "40.0 %\n",
      "41.0 %\n",
      "42.0 %\n",
      "43.0 %\n",
      "44.0 %\n",
      "45.0 %\n",
      "46.0 %\n",
      "47.0 %\n",
      "48.0 %\n",
      "49.0 %\n",
      "50.0 %\n",
      "51.0 %\n",
      "52.0 %\n",
      "53.0 %\n",
      "54.0 %\n",
      "55.0 %\n",
      "56.0 %\n",
      "57.0 %\n",
      "58.0 %\n",
      "59.0 %\n",
      "60.0 %\n",
      "61.0 %\n",
      "62.0 %\n",
      "63.0 %\n",
      "64.0 %\n",
      "65.0 %\n",
      "66.0 %\n",
      "67.0 %\n",
      "68.0 %\n",
      "69.0 %\n",
      "70.0 %\n",
      "71.0 %\n",
      "72.0 %\n",
      "73.0 %\n",
      "74.0 %\n",
      "75.0 %\n",
      "76.0 %\n",
      "77.0 %\n",
      "78.0 %\n",
      "79.0 %\n",
      "80.0 %\n",
      "81.0 %\n",
      "82.0 %\n",
      "83.0 %\n",
      "84.0 %\n",
      "85.0 %\n",
      "86.0 %\n",
      "87.0 %\n",
      "88.0 %\n",
      "89.0 %\n",
      "90.0 %\n",
      "91.0 %\n",
      "92.0 %\n",
      "93.0 %\n",
      "94.0 %\n",
      "95.0 %\n",
      "96.0 %\n",
      "97.0 %\n",
      "98.0 %\n",
      "99.0 %\n"
     ]
    }
   ],
   "source": [
    "import os\n",
    "import pandas as pd\n",
    "import numpy as np\n",
    "import json\n",
    "from nltk.tokenize import word_tokenize\n",
    "from keras.applications.resnet50 import ResNet50\n",
    "from keras.preprocessing import image\n",
    "from keras.applications.imagenet_utils import preprocess_input\n",
    "\n",
    "score_matrix = []\n",
    "\n",
    "\n",
    "last_img = None\n",
    "with open('./data_test/captions.txt', 'r') as f:\n",
    "    for i, line in enumerate(f):\n",
    "        line = line.split(' ', 1)\n",
    "        image_filename = line[0]\n",
    "        caption = line[1]\n",
    "\n",
    "        image_representation = image_model.predict(extract_features('./data_test/images/'+image_filename+'.jpg'))\n",
    "        scores = np.dot(caption_representations, image_representation.T).flatten()\n",
    "        score_matrix.append(scores)\n",
    "\n",
    "        if i % 100 == 0:\n",
    "            print(\"{} %\".format(i/100))\n",
    "\n",
    "        captions_.append(caption.rstrip('\\n'))\n",
    "        \n",
    "score_matrix = np.array(score_matrix)\n",
    "np.save('matrix.npy',score_matrix)"
   ]
  },
  {
   "cell_type": "code",
   "execution_count": 60,
   "metadata": {},
   "outputs": [
    {
     "data": {
      "text/plain": [
       "'outdoors in front of a crowd a man plays an instrument by blowing into pipes he holds up to his face'"
      ]
     },
     "execution_count": 60,
     "metadata": {},
     "output_type": "execute_result"
    }
   ],
   "source": [
    "texts[score_matrix[69].argmax()]"
   ]
  },
  {
   "cell_type": "code",
   "execution_count": 66,
   "metadata": {},
   "outputs": [
    {
     "name": "stdout",
     "output_type": "stream",
     "text": [
      "[9512 5030 5424 9021 8458   31 4817 7714 6642 9963 5990 7437  188  757\n",
      " 9603 2519 6574  721 6510  794 2316 3325 1050 6246 6472  933 6389 5568\n",
      " 8592 8858 4641 2654 1249 2670 5054 7644 8978 7313 3041 4794  780 1821\n",
      " 8012 3208 5737 7573 7724 6716 4773 3183]\n",
      "4.8856077 outdoors in front of a crowd a man plays an instrument by blowing into pipes he holds up to his face\n",
      "4.718146 an older man in his working uniform handling trash with a woman behind him looking intently at something\n",
      "4.5107074 a chef preparing hamburgers outside on a grill for patrons walking by\n",
      "4.1825104 a barbecue tent with a large red umbrella and two male cooks both with white aprons standing over a barbecue grill as a crowd of people pass by\n",
      "4.062502 a musician wearing a red scarf on his head and holding a microphone wipes his face as he walks away from a smiling dj\n",
      "3.8246636 a man in an apron smiles as he pokes a frying donut with a little metal stick\n",
      "3.8187382 young man shaving in the bathroom with razor and shaving cream\n",
      "3.8036933 a dj in a baseball cap standing over two game boys and other audio equipment\n",
      "3.788719 a man in white shirt carving or slicing blocks of ice\n",
      "3.7350667 a middle-aged man in blue shirt cutting up and gutting fishes while other men in the background do similar tasks\n",
      "3.7052586 chefs are gathered in the background and someone is over an open flame cooking meat\n",
      "3.6927834 a mother and daughter help a young boy prepare the sale from the dock\n",
      "3.6831589 numerous workers with blue shirts and white aprons are preparing fish for sale\n",
      "3.6612191 a man in a green t-shirt looks at his reflection while shaving using a straight razor\n",
      "3.6587143 a group of workers cutting cement blocks with electric saws\n",
      "3.6577516 a boy scout demonstrating the proper way of handling jar filled with liquid\n",
      "3.656182 a man in a yellow shirt fixes shingles on a roof with a hammer\n",
      "3.6451344 a band performs on stage with 4 members visible 2 with guitars or bass one with a microphone only\n",
      "3.6079352 three people wearing hats and all with orange tubs are working on brickwork on the ground\n",
      "3.57934 a balding man is playing the drums as another young man holding a guitar plugs in the amp\n",
      "3.5738134 band members playing with the drum major lifting up his drums to attack another member\n",
      "3.5526314 a group of guys working together to build something\n",
      "3.5315537 a man has put a stuffed animal on an electric screwdriver and is spinning it\n",
      "3.514666 a dozen workers wearing uniforms & sanitation hats are working on an assembly line in a factory\n",
      "3.5123284 an old man with a cigarette hanging out of his mouth standing in front of a fryer while holding a carton of cooking oil\n",
      "3.5051818 a man with an apron appears to be preparing some food in a red container\n",
      "3.5015967 a man is on stage singing and three people are playing guitars in front of a crowd\n",
      "3.491441 a pizza worker helps a customer while other workers deal with food\n",
      "3.4888897 under the glaring light of a fluorescent bulb men in dark clothing and hats approach fare card machines ; one older man in a blue scarf glances up as he puts on his gloves\n",
      "3.470285 three people two males and a female work in shallow dug out pits during an archaeological excavation\n",
      "3.4663882 three chefs in uniform are working in an assembly line to prepare pastries\n",
      "3.4607663 a woman with a black hat is playing an instrument while the person next to her is playing the drums\n",
      "3.455221 a man wearing a rain jacket cooking on a grill while a couple people watch and a gentleman smiles into camera\n",
      "3.4394298 a chef in white stands between two cuts of lamb at a gyro takeout window\n",
      "3.4392514 a man in brown jacket and blue cap is washing a black jacket in fountain\n",
      "3.4387405 sporting a checkered bandanna and glasses a caucasian chef prepares a meal on an industrial stove top using a medium-sized pan\n",
      "3.419882 a man is cutting shaving another man 's hair in an area with a dirt floor\n",
      "3.41857 several people are standing holing on yellow bars while others are holding nothing\n",
      "3.378684 three white guys converse around a large grill cooking meat\n",
      "3.3762646 an artist is depicted singing into her microphone with her drummer anxiously waiting to play in the background\n",
      "3.3751793 a man removes a boy from a ball pit while two other children and another man watch\n",
      "3.3540382 while singing into the microphone the man in the black shirt plays an acoustic guitar\n",
      "3.3515704 a chef busily attending to several flaming pots on burners\n",
      "3.3499107 two men playing guitars are standing on a stage with lots of equipment surrounding them\n",
      "3.3275735 a man wearing a black sweater cooks food in a pan while standing in a cluttered kitchen\n",
      "3.3221219 two people wearing reflective protective clothing are using an instrument to cut open a black barrel while people in the background look on\n",
      "3.295175 three men in a science lab watch one of them hold a burning object one man on the side is reaching for the ground\n",
      "3.2941694 a group of people look on as a group of hot air balloons are inflated before takeoff\n",
      "3.28296 oriental looking young man in bakers outfit looks like he is selling his wares to young children\n",
      "3.2795167 three people two women and one man crowd around a grill outside\n"
     ]
    }
   ],
   "source": [
    "generate_caption('./data_test/images/00069.jpg', n=50)"
   ]
  },
  {
   "cell_type": "code",
   "execution_count": null,
   "metadata": {},
   "outputs": [],
   "source": []
  }
 ],
 "metadata": {
  "accelerator": "GPU",
  "kernelspec": {
   "display_name": "Python 3",
   "language": "python",
   "name": "python3"
  },
  "language_info": {
   "codemirror_mode": {
    "name": "ipython",
    "version": 3
   },
   "file_extension": ".py",
   "mimetype": "text/x-python",
   "name": "python",
   "nbconvert_exporter": "python",
   "pygments_lexer": "ipython3",
   "version": "3.5.3"
  }
 },
 "nbformat": 4,
 "nbformat_minor": 2
}
